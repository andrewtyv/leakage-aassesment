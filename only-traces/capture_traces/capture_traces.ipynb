{
 "cells": [
  {
   "cell_type": "markdown",
   "id": "c9423399",
   "metadata": {},
   "source": [
    "### Imports"
   ]
  },
  {
   "cell_type": "code",
   "execution_count": 1,
   "id": "e3f10ad1",
   "metadata": {},
   "outputs": [],
   "source": [
    "import chipwhisperer as cw\n",
    "import matplotlib.pyplot as plt\n",
    "import numpy as np\n",
    "import time\n",
    "import struct\n",
    "import random\n",
    "\n",
    "from scipy.signal import find_peaks"
   ]
  },
  {
   "cell_type": "code",
   "execution_count": 2,
   "id": "1e5b311d",
   "metadata": {},
   "outputs": [],
   "source": [
    "project_name = \"protected0.5\"\n",
    "num_traces = 10000\n",
    "scmd_value = 1 #0 for unprotected and 1 for protected"
   ]
  },
  {
   "cell_type": "code",
   "execution_count": 5,
   "id": "56ddd61f",
   "metadata": {},
   "outputs": [],
   "source": [
    "project_name = \"unprotected\"\n",
    "num_traces = 2000\n",
    "scmd_value = 0 #0 for unprotected and 1 for protected"
   ]
  },
  {
   "cell_type": "code",
   "execution_count": 5,
   "id": "37301123-988b-49e7-9277-82bad8ca69e3",
   "metadata": {},
   "outputs": [],
   "source": [
    "min_in_val = -2\n",
    "max_in_val = 2\n",
    "decimate_value = 1\n",
    "filename = project_name + \"-trace.txt\""
   ]
  },
  {
   "cell_type": "markdown",
   "id": "d76aa78b",
   "metadata": {},
   "source": [
    "### Function Definitions"
   ]
  },
  {
   "cell_type": "code",
   "execution_count": 8,
   "id": "09958b5f",
   "metadata": {},
   "outputs": [],
   "source": [
    "def random_float(min_val, max_val):\n",
    "    # Generate a random float between min_val and max_val\n",
    "    rand_float = random.uniform(min_val, max_val)\n",
    "    # Round to 2 decimal places\n",
    "    return round(rand_float, 2)"
   ]
  },
  {
   "cell_type": "code",
   "execution_count": 10,
   "id": "c631e85a",
   "metadata": {},
   "outputs": [],
   "source": [
    "def float_to_bytearray_32bit_little_edian(f):\n",
    "    # Pack the float as a 32-bit (4-byte) IEEE 754 floating point number\n",
    "    packed = struct.pack('f', f)\n",
    "    # Convert to bytearray\n",
    "    return bytearray(packed)"
   ]
  },
  {
   "cell_type": "code",
   "execution_count": 12,
   "id": "237e36fa",
   "metadata": {},
   "outputs": [],
   "source": [
    "def scope_setup(samples=24431, decimate=2):\n",
    "    # arm the scope\n",
    "    \n",
    "    scope.arm()\n",
    "    \n",
    "    # Set the maximum number of points in a trace\n",
    "    scope.adc.fifo_fill_mode = \"normal\"\n",
    "    scope.adc.samples = samples\n",
    "    scope.adc.decimate = decimate"
   ]
  },
  {
   "cell_type": "code",
   "execution_count": 14,
   "id": "b354493b",
   "metadata": {},
   "outputs": [],
   "source": [
    "def capture_trace(cmd_data, cmd='p', scmd=scmd_value, prints=True):\n",
    "    scope.arm()\n",
    "    # flush the UART buffer\n",
    "    target.flush()\n",
    "    \n",
    "    target.send_cmd(cmd, scmd, cmd_data)\n",
    "    ret = scope.capture()\n",
    "    trace = scope.get_last_trace()\n",
    "    \n",
    "    returned_data = target.read_cmd('r')\n",
    "    ack = target.read_cmd('e')\n",
    "    if prints:\n",
    "        print(f'r\\t- target.read_cmd(\"r\"):\\t{returned_data}')\n",
    "        print(f'ack\\t- target.read_cmd(\"e\"):\\t{ack}')\n",
    "    return trace\n",
    "    "
   ]
  },
  {
   "cell_type": "markdown",
   "id": "9d6305e4",
   "metadata": {},
   "source": [
    "### Target Setup"
   ]
  },
  {
   "cell_type": "code",
   "execution_count": 19,
   "id": "44f6fe2c-bfb1-4402-8be4-73ebb103b849",
   "metadata": {},
   "outputs": [
    {
     "name": "stdout",
     "output_type": "stream",
     "text": [
      "Requirement already satisfied: libusb1 in /opt/anaconda3/lib/python3.12/site-packages (3.3.1)\n",
      "Note: you may need to restart the kernel to use updated packages.\n"
     ]
    }
   ],
   "source": [
    "pip install libusb1\n"
   ]
  },
  {
   "cell_type": "code",
   "execution_count": 17,
   "id": "7240f8d8",
   "metadata": {},
   "outputs": [
    {
     "name": "stderr",
     "output_type": "stream",
     "text": [
      "(ChipWhisperer NAEUSB WARNING|File naeusb.py:826) Your firmware (0.64.0) is outdated - latest is 0.65.0 See https://chipwhisperer.readthedocs.io/en/latest/firmware.html for more information\n"
     ]
    },
    {
     "name": "stdout",
     "output_type": "stream",
     "text": [
      "scope.gain.mode                          changed from low                       to high                     \n",
      "scope.gain.gain                          changed from 0                         to 30                       \n",
      "scope.gain.db                            changed from 5.5                       to 24.8359375               \n",
      "scope.adc.basic_mode                     changed from low                       to rising_edge              \n",
      "scope.adc.samples                        changed from 24400                     to 5000                     \n",
      "scope.adc.trig_count                     changed from 1920699                   to 24823583                 \n",
      "scope.clock.adc_src                      changed from clkgen_x1                 to clkgen_x4                \n",
      "scope.clock.adc_freq                     changed from 0                         to 29538471                 \n",
      "scope.clock.adc_rate                     changed from 0.0                       to 29538471.0               \n",
      "scope.clock.clkgen_div                   changed from 1                         to 26                       \n",
      "scope.clock.clkgen_freq                  changed from 192000000.0               to 7384615.384615385        \n",
      "scope.io.tio1                            changed from serial_tx                 to serial_rx                \n",
      "scope.io.tio2                            changed from serial_rx                 to serial_tx                \n",
      "scope.io.hs2                             changed from None                      to clkgen                   \n",
      "scope.io.cdc_settings                    changed from bytearray(b'\\x01\\x00\\x00\\x00') to bytearray(b'\\x00\\x00\\x00\\x00')\n"
     ]
    }
   ],
   "source": [
    "#Scope setup\n",
    "scope = cw.scope()\n",
    "scope.default_setup()\n",
    "\n",
    "target = cw.target(scope,cw.targets.SimpleSerial2) #cw.targets.SimpleSerial can be omitted\n",
    "#MY CHANGES - changed target to SimpleSerial2 - to be able to send_cmd"
   ]
  },
  {
   "cell_type": "code",
   "execution_count": 19,
   "id": "22f585db",
   "metadata": {},
   "outputs": [],
   "source": [
    "scope_setup(samples=24430, decimate=decimate_value)"
   ]
  },
  {
   "cell_type": "code",
   "execution_count": 21,
   "id": "de313acd",
   "metadata": {},
   "outputs": [
    {
     "name": "stdout",
     "output_type": "stream",
     "text": [
      "SS_VER set to SS_VER_2_1\n",
      "rm -f -- simpleserial-target-CWLITEARM.hex\n",
      "rm -f -- simpleserial-target-CWLITEARM.eep\n",
      "rm -f -- simpleserial-target-CWLITEARM.cof\n",
      "rm -f -- simpleserial-target-CWLITEARM.elf\n",
      "rm -f -- simpleserial-target-CWLITEARM.map\n",
      "rm -f -- simpleserial-target-CWLITEARM.sym\n",
      "rm -f -- simpleserial-target-CWLITEARM.lss\n",
      "rm -f -- objdir/*.o\n",
      "rm -f -- objdir/*.lst\n",
      "rm -f -- main.s network.s simpleserial.s stm32f3_hal.s stm32f3_hal_lowlevel.s stm32f3_sysmem.s\n",
      "rm -f -- main.d network.d simpleserial.d stm32f3_hal.d stm32f3_hal_lowlevel.d stm32f3_sysmem.d\n",
      "rm -f -- main.i network.i simpleserial.i stm32f3_hal.i stm32f3_hal_lowlevel.i stm32f3_sysmem.i\n",
      ".\n",
      "Welcome to another exciting ChipWhisperer target build!!\n",
      "arm-none-eabi-gcc (GNU Arm Embedded Toolchain 10.3-2021.10) 10.3.1 20210824 (release)\n",
      "Copyright (C) 2020 Free Software Foundation, Inc.\n",
      "This is free software; see the source for copying conditions.  There is NO\n",
      "warranty; not even for MERCHANTABILITY or FITNESS FOR A PARTICULAR PURPOSE.\n",
      "\n",
      ".\n",
      "Compiling C: main.c\n",
      "arm-none-eabi-gcc -c -mcpu=cortex-m4 -I. -mthumb -mfloat-abi=soft -fmessage-length=0 -ffunction-sections -gdwarf-2 -DSS_VER=SS_VER_2_1 -DSTM32F303xC -DSTM32F3 -DSTM32 -DDEBUG -DHAL_TYPE=HAL_stm32f3 -DPLATFORM=CWLITEARM -DF_CPU=7372800UL -DSS_VER_2_0=2 -DSS_VER_1_1=1 -DSS_VER_1_0=0 -Os -funsigned-char -funsigned-bitfields -fshort-enums -Wall -Wstrict-prototypes -Wa,-adhlns=objdir/main.lst -I./simpleserial/ -I./hal -I./hal/stm32f3 -I./hal/stm32f3/CMSIS -I./hal/stm32f3/CMSIS/core -I./hal/stm32f3/CMSIS/device -I./hal/stm32f4/Legacy -std=gnu99  -MMD -MP -MF .dep/main.o.d main.c -o objdir/main.o\n"
     ]
    },
    {
     "name": "stderr",
     "output_type": "stream",
     "text": [
      "In file included from main.c:15:\n",
      "network_config.h:14:6: warning: function declaration isn't a prototype [-Wstrict-prototypes]\n",
      "   14 | void init_weights() {\n",
      "      |      ^~~~~~~~~~~~\n"
     ]
    },
    {
     "name": "stdout",
     "output_type": "stream",
     "text": [
      ".\n",
      "Compiling C: network.c\n",
      "arm-none-eabi-gcc -c -mcpu=cortex-m4 -I. -mthumb -mfloat-abi=soft -fmessage-length=0 -ffunction-sections -gdwarf-2 -DSS_VER=SS_VER_2_1 -DSTM32F303xC -DSTM32F3 -DSTM32 -DDEBUG -DHAL_TYPE=HAL_stm32f3 -DPLATFORM=CWLITEARM -DF_CPU=7372800UL -DSS_VER_2_0=2 -DSS_VER_1_1=1 -DSS_VER_1_0=0 -Os -funsigned-char -funsigned-bitfields -fshort-enums -Wall -Wstrict-prototypes -Wa,-adhlns=objdir/network.lst -I./simpleserial/ -I./hal -I./hal/stm32f3 -I./hal/stm32f3/CMSIS -I./hal/stm32f3/CMSIS/core -I./hal/stm32f3/CMSIS/device -I./hal/stm32f4/Legacy -std=gnu99  -MMD -MP -MF .dep/network.o.d network.c -o objdir/network.o\n",
      ".\n",
      "Compiling C: ./simpleserial/simpleserial.c\n",
      "arm-none-eabi-gcc -c -mcpu=cortex-m4 -I. -mthumb -mfloat-abi=soft -fmessage-length=0 -ffunction-sections -gdwarf-2 -DSS_VER=SS_VER_2_1 -DSTM32F303xC -DSTM32F3 -DSTM32 -DDEBUG -DHAL_TYPE=HAL_stm32f3 -DPLATFORM=CWLITEARM -DF_CPU=7372800UL -DSS_VER_2_0=2 -DSS_VER_1_1=1 -DSS_VER_1_0=0 -Os -funsigned-char -funsigned-bitfields -fshort-enums -Wall -Wstrict-prototypes -Wa,-adhlns=objdir/simpleserial.lst -I./simpleserial/ -I./hal -I./hal/stm32f3 -I./hal/stm32f3/CMSIS -I./hal/stm32f3/CMSIS/core -I./hal/stm32f3/CMSIS/device -I./hal/stm32f4/Legacy -std=gnu99  -MMD -MP -MF .dep/simpleserial.o.d ./simpleserial/simpleserial.c -o objdir/simpleserial.o\n",
      ".\n",
      "Compiling C: ./hal/stm32f3/stm32f3_hal.c\n",
      "arm-none-eabi-gcc -c -mcpu=cortex-m4 -I. -mthumb -mfloat-abi=soft -fmessage-length=0 -ffunction-sections -gdwarf-2 -DSS_VER=SS_VER_2_1 -DSTM32F303xC -DSTM32F3 -DSTM32 -DDEBUG -DHAL_TYPE=HAL_stm32f3 -DPLATFORM=CWLITEARM -DF_CPU=7372800UL -DSS_VER_2_0=2 -DSS_VER_1_1=1 -DSS_VER_1_0=0 -Os -funsigned-char -funsigned-bitfields -fshort-enums -Wall -Wstrict-prototypes -Wa,-adhlns=objdir/stm32f3_hal.lst -I./simpleserial/ -I./hal -I./hal/stm32f3 -I./hal/stm32f3/CMSIS -I./hal/stm32f3/CMSIS/core -I./hal/stm32f3/CMSIS/device -I./hal/stm32f4/Legacy -std=gnu99  -MMD -MP -MF .dep/stm32f3_hal.o.d ./hal/stm32f3/stm32f3_hal.c -o objdir/stm32f3_hal.o\n",
      ".\n",
      "Compiling C: ./hal/stm32f3/stm32f3_hal_lowlevel.c\n",
      "arm-none-eabi-gcc -c -mcpu=cortex-m4 -I. -mthumb -mfloat-abi=soft -fmessage-length=0 -ffunction-sections -gdwarf-2 -DSS_VER=SS_VER_2_1 -DSTM32F303xC -DSTM32F3 -DSTM32 -DDEBUG -DHAL_TYPE=HAL_stm32f3 -DPLATFORM=CWLITEARM -DF_CPU=7372800UL -DSS_VER_2_0=2 -DSS_VER_1_1=1 -DSS_VER_1_0=0 -Os -funsigned-char -funsigned-bitfields -fshort-enums -Wall -Wstrict-prototypes -Wa,-adhlns=objdir/stm32f3_hal_lowlevel.lst -I./simpleserial/ -I./hal -I./hal/stm32f3 -I./hal/stm32f3/CMSIS -I./hal/stm32f3/CMSIS/core -I./hal/stm32f3/CMSIS/device -I./hal/stm32f4/Legacy -std=gnu99  -MMD -MP -MF .dep/stm32f3_hal_lowlevel.o.d ./hal/stm32f3/stm32f3_hal_lowlevel.c -o objdir/stm32f3_hal_lowlevel.o\n",
      ".\n",
      "Compiling C: ./hal/stm32f3/stm32f3_sysmem.c\n",
      "arm-none-eabi-gcc -c -mcpu=cortex-m4 -I. -mthumb -mfloat-abi=soft -fmessage-length=0 -ffunction-sections -gdwarf-2 -DSS_VER=SS_VER_2_1 -DSTM32F303xC -DSTM32F3 -DSTM32 -DDEBUG -DHAL_TYPE=HAL_stm32f3 -DPLATFORM=CWLITEARM -DF_CPU=7372800UL -DSS_VER_2_0=2 -DSS_VER_1_1=1 -DSS_VER_1_0=0 -Os -funsigned-char -funsigned-bitfields -fshort-enums -Wall -Wstrict-prototypes -Wa,-adhlns=objdir/stm32f3_sysmem.lst -I./simpleserial/ -I./hal -I./hal/stm32f3 -I./hal/stm32f3/CMSIS -I./hal/stm32f3/CMSIS/core -I./hal/stm32f3/CMSIS/device -I./hal/stm32f4/Legacy -std=gnu99  -MMD -MP -MF .dep/stm32f3_sysmem.o.d ./hal/stm32f3/stm32f3_sysmem.c -o objdir/stm32f3_sysmem.o\n",
      ".\n",
      "Assembling: ./hal/stm32f3/stm32f3_startup.S\n",
      "arm-none-eabi-gcc -c -mcpu=cortex-m4 -I. -x assembler-with-cpp -mthumb -mfloat-abi=soft -fmessage-length=0 -ffunction-sections -DF_CPU=7372800 -Wa,-gstabs,-adhlns=objdir/stm32f3_startup.lst -I./simpleserial/ -I./hal -I./hal/stm32f3 -I./hal/stm32f3/CMSIS -I./hal/stm32f3/CMSIS/core -I./hal/stm32f3/CMSIS/device -I./hal/stm32f4/Legacy ./hal/stm32f3/stm32f3_startup.S -o objdir/stm32f3_startup.o\n",
      ".\n",
      "Linking: simpleserial-target-CWLITEARM.elf\n",
      "arm-none-eabi-gcc -mcpu=cortex-m4 -I. -mthumb -mfloat-abi=soft -fmessage-length=0 -ffunction-sections -gdwarf-2 -DSS_VER=SS_VER_2_1 -DSTM32F303xC -DSTM32F3 -DSTM32 -DDEBUG -DHAL_TYPE=HAL_stm32f3 -DPLATFORM=CWLITEARM -DF_CPU=7372800UL -DSS_VER_2_0=2 -DSS_VER_1_1=1 -DSS_VER_1_0=0 -Os -funsigned-char -funsigned-bitfields -fshort-enums -Wall -Wstrict-prototypes -Wa,-adhlns=objdir/main.o -I./simpleserial/ -I./hal -I./hal/stm32f3 -I./hal/stm32f3/CMSIS -I./hal/stm32f3/CMSIS/core -I./hal/stm32f3/CMSIS/device -I./hal/stm32f4/Legacy -std=gnu99  -MMD -MP -MF .dep/simpleserial-target-CWLITEARM.elf.d objdir/main.o objdir/network.o objdir/simpleserial.o objdir/stm32f3_hal.o objdir/stm32f3_hal_lowlevel.o objdir/stm32f3_sysmem.o objdir/stm32f3_startup.o --output simpleserial-target-CWLITEARM.elf --specs=nano.specs --specs=nosys.specs -T ./hal/stm32f3/LinkerScript.ld -Wl,--gc-sections -lm -Wl,-Map=simpleserial-target-CWLITEARM.map,--cref   -lm  \n",
      ".\n",
      "Creating load file for Flash: simpleserial-target-CWLITEARM.hex\n",
      "arm-none-eabi-objcopy -O ihex -R .eeprom -R .fuse -R .lock -R .signature simpleserial-target-CWLITEARM.elf simpleserial-target-CWLITEARM.hex\n",
      ".\n",
      "Creating load file for EEPROM: simpleserial-target-CWLITEARM.eep\n",
      "arm-none-eabi-objcopy -j .eeprom --set-section-flags=.eeprom=\"alloc,load\" \\\n",
      "\t--change-section-lma .eeprom=0 --no-change-warnings -O ihex simpleserial-target-CWLITEARM.elf simpleserial-target-CWLITEARM.eep || exit 0\n",
      ".\n",
      "Creating Extended Listing: simpleserial-target-CWLITEARM.lss\n",
      "arm-none-eabi-objdump -h -S -z simpleserial-target-CWLITEARM.elf > simpleserial-target-CWLITEARM.lss\n",
      ".\n",
      "Creating Symbol Table: simpleserial-target-CWLITEARM.sym\n",
      "arm-none-eabi-nm -n simpleserial-target-CWLITEARM.elf > simpleserial-target-CWLITEARM.sym\n",
      "Size after:\n",
      "   text\t   data\t    bss\t    dec\t    hex\tfilename\n",
      "  18988\t    108\t   3516\t  22612\t   5854\tsimpleserial-target-CWLITEARM.elf\n",
      "+--------------------------------------------------------\n",
      "+ Default target does full rebuild each time.\n",
      "+ Specify buildtarget == allquick == to avoid full rebuild\n",
      "+--------------------------------------------------------\n",
      "+--------------------------------------------------------\n",
      "+ Built for platform CW-Lite Arm \\(STM32F3\\) with:\n",
      "+--------------------------------------------------------\n"
     ]
    }
   ],
   "source": [
    "%%bash\n",
    "cd network/\n",
    "make PLATFORM='CWLITEARM' CRYPTO_TARGET=NONE "
   ]
  },
  {
   "cell_type": "code",
   "execution_count": 23,
   "id": "8bc64fac",
   "metadata": {},
   "outputs": [
    {
     "name": "stdout",
     "output_type": "stream",
     "text": [
      "Detected known STMF32: STM32F302xB(C)/303xB(C)\n",
      "Extended erase (0x44), this can take ten seconds or more\n",
      "Attempting to program 19107 bytes at 0x8000000\n",
      "STM32F Programming flash...\n",
      "STM32F Reading flash...\n",
      "Verified flash OK, 19107 bytes\n"
     ]
    }
   ],
   "source": [
    "cw.program_target(scope, cw.programmers.STM32FProgrammer, \"network/simpleserial-target-CWLITEARM.hex\")"
   ]
  },
  {
   "cell_type": "markdown",
   "id": "866c455f",
   "metadata": {},
   "source": [
    "### Initialize the project\n",
    "\n",
    "The Chipwhisperer `Project` class can be used to keep a collection of traces. "
   ]
  },
  {
   "cell_type": "code",
   "execution_count": 25,
   "id": "cc267ea6",
   "metadata": {},
   "outputs": [],
   "source": [
    "proj = cw.create_project(project_name)"
   ]
  },
  {
   "cell_type": "code",
   "execution_count": 26,
   "id": "9d6512e2",
   "metadata": {},
   "outputs": [
    {
     "name": "stdout",
     "output_type": "stream",
     "text": [
      "rows: 10000 cols: 7\n",
      "max(first_col) = 1.9998042265991436\n",
      "min(first_col) = -1.9992547609954174\n"
     ]
    }
   ],
   "source": [
    "\n",
    "\n",
    "input_vals = [[0.5]*7 for _ in range(num_traces)]\n",
    "\n",
    "for i in range(num_traces):\n",
    "    if i % 7 == 0:\n",
    "        input_vals[i][0] = random.uniform(-2, 2)\n",
    "\n",
    "first_col = [row[0] for row in input_vals]\n",
    "print(\"rows:\", len(input_vals), \"cols:\", len(input_vals[0]))\n",
    "print(\"max(first_col) =\", max(first_col))\n",
    "print(\"min(first_col) =\", min(first_col))"
   ]
  },
  {
   "cell_type": "markdown",
   "id": "62d59e74-e476-4921-9fd3-2009eab63da5",
   "metadata": {},
   "source": [
    "### Trace collection"
   ]
  },
  {
   "cell_type": "code",
   "execution_count": 28,
   "id": "3d729a96-2543-4cd7-8434-b48d50b62295",
   "metadata": {},
   "outputs": [
    {
     "name": "stdout",
     "output_type": "stream",
     "text": [
      "r\t- target.read_cmd(\"r\"):\tCWbytearray(b'00 72 04 27 31 28 bf 63 00')\n",
      "ack\t- target.read_cmd(\"e\"):\tCWbytearray(b'00 65 01 00 eb 00')\n",
      "r\t- target.read_cmd(\"r\"):\tCWbytearray(b'00 72 04 27 31 28 bf 63 00')\n",
      "ack\t- target.read_cmd(\"e\"):\tCWbytearray(b'00 65 01 00 eb 00')\n",
      "r\t- target.read_cmd(\"r\"):\tCWbytearray(b'00 72 04 27 31 28 bf 63 00')\n",
      "ack\t- target.read_cmd(\"e\"):\tCWbytearray(b'00 65 01 00 eb 00')\n",
      "r\t- target.read_cmd(\"r\"):\tCWbytearray(b'00 72 04 27 31 28 bf 63 00')\n",
      "ack\t- target.read_cmd(\"e\"):\tCWbytearray(b'00 65 01 00 eb 00')\n",
      "r\t- target.read_cmd(\"r\"):\tCWbytearray(b'00 72 04 27 31 28 bf 63 00')\n",
      "ack\t- target.read_cmd(\"e\"):\tCWbytearray(b'00 65 01 00 eb 00')\n",
      "r\t- target.read_cmd(\"r\"):\tCWbytearray(b'00 72 04 27 31 28 bf 63 00')\n",
      "ack\t- target.read_cmd(\"e\"):\tCWbytearray(b'00 65 01 00 eb 00')\n",
      "r\t- target.read_cmd(\"r\"):\tCWbytearray(b'00 72 04 27 31 28 bf 63 00')\n",
      "ack\t- target.read_cmd(\"e\"):\tCWbytearray(b'00 65 01 00 eb 00')\n",
      "r\t- target.read_cmd(\"r\"):\tCWbytearray(b'00 72 04 27 31 28 bf 63 00')\n",
      "ack\t- target.read_cmd(\"e\"):\tCWbytearray(b'00 65 01 00 eb 00')\n",
      "r\t- target.read_cmd(\"r\"):\tCWbytearray(b'00 72 04 27 31 28 bf 63 00')\n",
      "ack\t- target.read_cmd(\"e\"):\tCWbytearray(b'00 65 01 00 eb 00')\n",
      "r\t- target.read_cmd(\"r\"):\tCWbytearray(b'00 72 04 27 31 28 bf 63 00')\n",
      "ack\t- target.read_cmd(\"e\"):\tCWbytearray(b'00 65 01 00 eb 00')\n",
      "r\t- target.read_cmd(\"r\"):\tCWbytearray(b'00 72 04 27 31 28 bf 63 00')\n",
      "ack\t- target.read_cmd(\"e\"):\tCWbytearray(b'00 65 01 00 eb 00')\n",
      "r\t- target.read_cmd(\"r\"):\tCWbytearray(b'00 72 04 27 31 28 bf 63 00')\n",
      "ack\t- target.read_cmd(\"e\"):\tCWbytearray(b'00 65 01 00 eb 00')\n",
      "r\t- target.read_cmd(\"r\"):\tCWbytearray(b'00 72 04 27 31 28 bf 63 00')\n",
      "ack\t- target.read_cmd(\"e\"):\tCWbytearray(b'00 65 01 00 eb 00')\n",
      "r\t- target.read_cmd(\"r\"):\tCWbytearray(b'00 72 04 27 31 28 bf 63 00')\n",
      "ack\t- target.read_cmd(\"e\"):\tCWbytearray(b'00 65 01 00 eb 00')\n",
      "r\t- target.read_cmd(\"r\"):\tCWbytearray(b'00 72 04 27 31 28 bf 63 00')\n",
      "ack\t- target.read_cmd(\"e\"):\tCWbytearray(b'00 65 01 00 eb 00')\n",
      "r\t- target.read_cmd(\"r\"):\tCWbytearray(b'00 72 04 27 31 28 bf 63 00')\n",
      "ack\t- target.read_cmd(\"e\"):\tCWbytearray(b'00 65 01 00 eb 00')\n",
      "r\t- target.read_cmd(\"r\"):\tCWbytearray(b'00 72 04 27 31 28 bf 63 00')\n",
      "ack\t- target.read_cmd(\"e\"):\tCWbytearray(b'00 65 01 00 eb 00')\n",
      "r\t- target.read_cmd(\"r\"):\tCWbytearray(b'00 72 04 27 31 28 bf 63 00')\n",
      "ack\t- target.read_cmd(\"e\"):\tCWbytearray(b'00 65 01 00 eb 00')\n",
      "r\t- target.read_cmd(\"r\"):\tCWbytearray(b'00 72 04 27 31 28 bf 63 00')\n",
      "ack\t- target.read_cmd(\"e\"):\tCWbytearray(b'00 65 01 00 eb 00')\n",
      "r\t- target.read_cmd(\"r\"):\tCWbytearray(b'00 72 04 27 31 28 bf 63 00')\n",
      "ack\t- target.read_cmd(\"e\"):\tCWbytearray(b'00 65 01 00 eb 00')\n",
      "r\t- target.read_cmd(\"r\"):\tCWbytearray(b'00 72 04 27 31 28 bf 63 00')\n",
      "ack\t- target.read_cmd(\"e\"):\tCWbytearray(b'00 65 01 00 eb 00')\n",
      "r\t- target.read_cmd(\"r\"):\tCWbytearray(b'00 72 04 27 31 28 bf 63 00')\n",
      "ack\t- target.read_cmd(\"e\"):\tCWbytearray(b'00 65 01 00 eb 00')\n",
      "r\t- target.read_cmd(\"r\"):\tCWbytearray(b'00 72 04 27 31 28 bf 63 00')\n",
      "ack\t- target.read_cmd(\"e\"):\tCWbytearray(b'00 65 01 00 eb 00')\n",
      "r\t- target.read_cmd(\"r\"):\tCWbytearray(b'00 72 04 27 31 28 bf 63 00')\n",
      "ack\t- target.read_cmd(\"e\"):\tCWbytearray(b'00 65 01 00 eb 00')\n",
      "r\t- target.read_cmd(\"r\"):\tCWbytearray(b'00 72 04 27 31 28 bf 63 00')\n",
      "ack\t- target.read_cmd(\"e\"):\tCWbytearray(b'00 65 01 00 eb 00')\n",
      "r\t- target.read_cmd(\"r\"):\tCWbytearray(b'00 72 04 27 31 28 bf 63 00')\n",
      "ack\t- target.read_cmd(\"e\"):\tCWbytearray(b'00 65 01 00 eb 00')\n",
      "r\t- target.read_cmd(\"r\"):\tCWbytearray(b'00 72 04 27 31 28 bf 63 00')\n",
      "ack\t- target.read_cmd(\"e\"):\tCWbytearray(b'00 65 01 00 eb 00')\n",
      "r\t- target.read_cmd(\"r\"):\tCWbytearray(b'00 72 04 27 31 28 bf 63 00')\n",
      "ack\t- target.read_cmd(\"e\"):\tCWbytearray(b'00 65 01 00 eb 00')\n",
      "r\t- target.read_cmd(\"r\"):\tCWbytearray(b'00 72 04 27 31 28 bf 63 00')\n",
      "ack\t- target.read_cmd(\"e\"):\tCWbytearray(b'00 65 01 00 eb 00')\n",
      "r\t- target.read_cmd(\"r\"):\tCWbytearray(b'00 72 04 27 31 28 bf 63 00')\n",
      "ack\t- target.read_cmd(\"e\"):\tCWbytearray(b'00 65 01 00 eb 00')\n",
      "r\t- target.read_cmd(\"r\"):\tCWbytearray(b'00 72 04 27 31 28 bf 63 00')\n",
      "ack\t- target.read_cmd(\"e\"):\tCWbytearray(b'00 65 01 00 eb 00')\n",
      "r\t- target.read_cmd(\"r\"):\tCWbytearray(b'00 72 04 27 31 28 bf 63 00')\n",
      "ack\t- target.read_cmd(\"e\"):\tCWbytearray(b'00 65 01 00 eb 00')\n",
      "r\t- target.read_cmd(\"r\"):\tCWbytearray(b'00 72 04 27 31 28 bf 63 00')\n",
      "ack\t- target.read_cmd(\"e\"):\tCWbytearray(b'00 65 01 00 eb 00')\n",
      "r\t- target.read_cmd(\"r\"):\tCWbytearray(b'00 72 04 27 31 28 bf 63 00')\n",
      "ack\t- target.read_cmd(\"e\"):\tCWbytearray(b'00 65 01 00 eb 00')\n",
      "r\t- target.read_cmd(\"r\"):\tCWbytearray(b'00 72 04 27 31 28 bf 63 00')\n",
      "ack\t- target.read_cmd(\"e\"):\tCWbytearray(b'00 65 01 00 eb 00')\n",
      "r\t- target.read_cmd(\"r\"):\tCWbytearray(b'00 72 04 27 31 28 bf 63 00')\n",
      "ack\t- target.read_cmd(\"e\"):\tCWbytearray(b'00 65 01 00 eb 00')\n",
      "r\t- target.read_cmd(\"r\"):\tCWbytearray(b'00 72 04 27 31 28 bf 63 00')\n",
      "ack\t- target.read_cmd(\"e\"):\tCWbytearray(b'00 65 01 00 eb 00')\n",
      "r\t- target.read_cmd(\"r\"):\tCWbytearray(b'00 72 04 27 31 28 bf 63 00')\n",
      "ack\t- target.read_cmd(\"e\"):\tCWbytearray(b'00 65 01 00 eb 00')\n",
      "r\t- target.read_cmd(\"r\"):\tCWbytearray(b'00 72 04 27 31 28 bf 63 00')\n",
      "ack\t- target.read_cmd(\"e\"):\tCWbytearray(b'00 65 01 00 eb 00')\n",
      "r\t- target.read_cmd(\"r\"):\tCWbytearray(b'00 72 04 27 31 28 bf 63 00')\n",
      "ack\t- target.read_cmd(\"e\"):\tCWbytearray(b'00 65 01 00 eb 00')\n",
      "r\t- target.read_cmd(\"r\"):\tCWbytearray(b'00 72 04 27 31 28 bf 63 00')\n",
      "ack\t- target.read_cmd(\"e\"):\tCWbytearray(b'00 65 01 00 eb 00')\n",
      "r\t- target.read_cmd(\"r\"):\tCWbytearray(b'00 72 04 27 31 28 bf 63 00')\n",
      "ack\t- target.read_cmd(\"e\"):\tCWbytearray(b'00 65 01 00 eb 00')\n",
      "r\t- target.read_cmd(\"r\"):\tCWbytearray(b'00 72 04 27 31 28 bf 63 00')\n",
      "ack\t- target.read_cmd(\"e\"):\tCWbytearray(b'00 65 01 00 eb 00')\n",
      "r\t- target.read_cmd(\"r\"):\tCWbytearray(b'00 72 04 27 31 28 bf 63 00')\n",
      "ack\t- target.read_cmd(\"e\"):\tCWbytearray(b'00 65 01 00 eb 00')\n",
      "r\t- target.read_cmd(\"r\"):\tCWbytearray(b'00 72 04 27 31 28 bf 63 00')\n",
      "ack\t- target.read_cmd(\"e\"):\tCWbytearray(b'00 65 01 00 eb 00')\n",
      "r\t- target.read_cmd(\"r\"):\tCWbytearray(b'00 72 04 27 31 28 bf 63 00')\n",
      "ack\t- target.read_cmd(\"e\"):\tCWbytearray(b'00 65 01 00 eb 00')\n",
      "r\t- target.read_cmd(\"r\"):\tCWbytearray(b'00 72 04 27 31 28 bf 63 00')\n",
      "ack\t- target.read_cmd(\"e\"):\tCWbytearray(b'00 65 01 00 eb 00')\n",
      "r\t- target.read_cmd(\"r\"):\tCWbytearray(b'00 72 04 27 31 28 bf 63 00')\n",
      "ack\t- target.read_cmd(\"e\"):\tCWbytearray(b'00 65 01 00 eb 00')\n",
      "r\t- target.read_cmd(\"r\"):\tCWbytearray(b'00 72 04 27 31 28 bf 63 00')\n",
      "ack\t- target.read_cmd(\"e\"):\tCWbytearray(b'00 65 01 00 eb 00')\n",
      "r\t- target.read_cmd(\"r\"):\tCWbytearray(b'00 72 04 27 31 28 bf 63 00')\n",
      "ack\t- target.read_cmd(\"e\"):\tCWbytearray(b'00 65 01 00 eb 00')\n",
      "warm up done\n",
      "completed 100 traces in\t4.17 seconds\n",
      "completed 200 traces in\t8.35 seconds\n",
      "completed 300 traces in\t12.57 seconds\n",
      "completed 400 traces in\t16.80 seconds\n",
      "completed 500 traces in\t21.03 seconds\n",
      "completed 600 traces in\t25.04 seconds\n",
      "completed 700 traces in\t29.14 seconds\n",
      "completed 800 traces in\t33.10 seconds\n",
      "completed 900 traces in\t37.26 seconds\n",
      "completed 1000 traces in\t41.40 seconds\n",
      "completed 1100 traces in\t45.38 seconds\n",
      "completed 1200 traces in\t49.45 seconds\n",
      "completed 1300 traces in\t53.57 seconds\n",
      "completed 1400 traces in\t57.59 seconds\n",
      "completed 1500 traces in\t61.60 seconds\n",
      "completed 1600 traces in\t65.64 seconds\n",
      "completed 1700 traces in\t69.66 seconds\n",
      "completed 1800 traces in\t73.73 seconds\n",
      "completed 1900 traces in\t77.64 seconds\n",
      "completed 2000 traces in\t81.76 seconds\n",
      "completed 2100 traces in\t85.89 seconds\n",
      "completed 2200 traces in\t89.89 seconds\n",
      "completed 2300 traces in\t94.04 seconds\n",
      "completed 2400 traces in\t97.99 seconds\n",
      "completed 2500 traces in\t102.16 seconds\n",
      "completed 2600 traces in\t106.09 seconds\n",
      "completed 2700 traces in\t109.98 seconds\n",
      "completed 2800 traces in\t114.02 seconds\n",
      "completed 2900 traces in\t118.12 seconds\n",
      "completed 3000 traces in\t122.17 seconds\n",
      "completed 3100 traces in\t126.11 seconds\n",
      "completed 3200 traces in\t130.18 seconds\n",
      "completed 3300 traces in\t134.18 seconds\n",
      "completed 3400 traces in\t138.24 seconds\n",
      "completed 3500 traces in\t142.20 seconds\n",
      "completed 3600 traces in\t146.48 seconds\n",
      "completed 3700 traces in\t150.55 seconds\n",
      "completed 3800 traces in\t154.56 seconds\n",
      "completed 3900 traces in\t158.60 seconds\n",
      "completed 4000 traces in\t162.65 seconds\n",
      "completed 4100 traces in\t166.74 seconds\n",
      "completed 4200 traces in\t170.69 seconds\n",
      "completed 4300 traces in\t174.84 seconds\n",
      "completed 4400 traces in\t179.05 seconds\n",
      "completed 4500 traces in\t183.25 seconds\n",
      "completed 4600 traces in\t187.37 seconds\n",
      "completed 4700 traces in\t191.32 seconds\n",
      "completed 4800 traces in\t195.45 seconds\n",
      "completed 4900 traces in\t199.50 seconds\n",
      "completed 5000 traces in\t203.43 seconds\n",
      "completed 5100 traces in\t207.60 seconds\n",
      "completed 5200 traces in\t211.63 seconds\n",
      "completed 5300 traces in\t215.60 seconds\n",
      "completed 5400 traces in\t219.85 seconds\n",
      "completed 5500 traces in\t224.07 seconds\n",
      "completed 5600 traces in\t228.21 seconds\n",
      "completed 5700 traces in\t232.40 seconds\n",
      "completed 5800 traces in\t236.59 seconds\n",
      "completed 5900 traces in\t240.84 seconds\n",
      "completed 6000 traces in\t244.95 seconds\n",
      "completed 6100 traces in\t248.96 seconds\n",
      "completed 6200 traces in\t252.90 seconds\n",
      "completed 6300 traces in\t256.88 seconds\n",
      "completed 6400 traces in\t260.96 seconds\n",
      "completed 6500 traces in\t265.19 seconds\n",
      "completed 6600 traces in\t269.29 seconds\n",
      "completed 6700 traces in\t273.27 seconds\n",
      "completed 6800 traces in\t277.35 seconds\n",
      "completed 6900 traces in\t281.25 seconds\n",
      "completed 7000 traces in\t285.12 seconds\n",
      "completed 7100 traces in\t289.23 seconds\n",
      "completed 7200 traces in\t293.42 seconds\n",
      "completed 7300 traces in\t297.57 seconds\n",
      "completed 7400 traces in\t301.70 seconds\n",
      "completed 7500 traces in\t305.70 seconds\n",
      "completed 7600 traces in\t309.70 seconds\n",
      "completed 7700 traces in\t313.54 seconds\n",
      "completed 7800 traces in\t317.28 seconds\n",
      "completed 7900 traces in\t321.40 seconds\n",
      "completed 8000 traces in\t325.59 seconds\n",
      "completed 8100 traces in\t329.72 seconds\n",
      "completed 8200 traces in\t333.63 seconds\n",
      "completed 8300 traces in\t337.65 seconds\n",
      "completed 8400 traces in\t341.76 seconds\n",
      "completed 8500 traces in\t345.78 seconds\n",
      "completed 8600 traces in\t349.71 seconds\n",
      "completed 8700 traces in\t353.74 seconds\n",
      "completed 8800 traces in\t357.81 seconds\n",
      "completed 8900 traces in\t361.87 seconds\n",
      "completed 9000 traces in\t365.89 seconds\n",
      "completed 9100 traces in\t369.88 seconds\n",
      "completed 9200 traces in\t374.17 seconds\n",
      "completed 9300 traces in\t378.22 seconds\n",
      "completed 9400 traces in\t382.38 seconds\n",
      "completed 9500 traces in\t386.78 seconds\n",
      "completed 9600 traces in\t390.95 seconds\n",
      "completed 9700 traces in\t395.21 seconds\n",
      "completed 9800 traces in\t399.12 seconds\n",
      "completed 9900 traces in\t403.30 seconds\n",
      "completed 10000 traces in\t407.20 seconds\n",
      "capturing traces finished in 407.20 seconds!\n"
     ]
    }
   ],
   "source": [
    "float_val = -0.657\n",
    "float_bytearray = float_to_bytearray_32bit_little_edian(float_val)\n",
    "data = bytearray([0x42] * 4)\n",
    "for i in range(50):\n",
    "    trace_wave = capture_trace(float_bytearray, scmd=scmd_value)\n",
    "print(\"warm up done\")\n",
    "\n",
    "start = time.time() \n",
    "completed_counter = 0 \n",
    "\n",
    "for i in range (num_traces): \n",
    "    if isinstance(input_vals, np.ndarray):\n",
    "        first_val = input_vals[i, 0]\n",
    "    else:\n",
    "        first_val = input_vals[i][0]\n",
    "\n",
    "    cmd_data = float_to_bytearray_32bit_little_edian(first_val)\n",
    "    \n",
    "    trace_wave = capture_trace(cmd_data=cmd_data, scmd=scmd_value, prints=False)\n",
    "    trace      = cw.Trace(wave=trace_wave,\n",
    "                          textin=first_val,  \n",
    "                          textout=None,\n",
    "                          key=None)\n",
    "    proj.traces.append(trace)\n",
    "    \n",
    "    completed_counter += 1\n",
    "    if completed_counter % 100 == 0:\n",
    "        print(f'completed {completed_counter} traces in\\t{time.time() - start:.2f} seconds')\n",
    "\n",
    "end = time.time()\n",
    "print(f'capturing traces finished in {end - start:.2f} seconds!')"
   ]
  },
  {
   "cell_type": "code",
   "execution_count": 33,
   "id": "0937b8d3",
   "metadata": {},
   "outputs": [],
   "source": [
    "# proj.save()\n",
    "# proj.close()"
   ]
  },
  {
   "cell_type": "markdown",
   "id": "44525487-e57e-4a6c-9537-6f26cd4d3ef7",
   "metadata": {},
   "source": [
    "### Plot trace"
   ]
  },
  {
   "cell_type": "code",
   "execution_count": 36,
   "id": "8e18d4ea",
   "metadata": {},
   "outputs": [
    {
     "ename": "OSError",
     "evalue": "File /Users/andrew/Desktop/protectedvsunprotected/only-traces/capture_traces/protected0.5.cwp does not exist or is not a file",
     "output_type": "error",
     "traceback": [
      "\u001b[0;31m---------------------------------------------------------------------------\u001b[0m",
      "\u001b[0;31mOSError\u001b[0m                                   Traceback (most recent call last)",
      "Cell \u001b[0;32mIn[36], line 1\u001b[0m\n\u001b[0;32m----> 1\u001b[0m proj \u001b[38;5;241m=\u001b[39m cw\u001b[38;5;241m.\u001b[39mopen_project(project_name)\n",
      "File \u001b[0;32m/opt/anaconda3/lib/python3.12/site-packages/chipwhisperer/__init__.py:211\u001b[0m, in \u001b[0;36mopen_project\u001b[0;34m(filename)\u001b[0m\n\u001b[1;32m    208\u001b[0m filename \u001b[38;5;241m=\u001b[39m project\u001b[38;5;241m.\u001b[39mensure_cwp_extension(filename)\n\u001b[1;32m    210\u001b[0m proj \u001b[38;5;241m=\u001b[39m project\u001b[38;5;241m.\u001b[39mProject()\n\u001b[0;32m--> 211\u001b[0m proj\u001b[38;5;241m.\u001b[39mload(filename)\n\u001b[1;32m    212\u001b[0m \u001b[38;5;28;01mreturn\u001b[39;00m proj\n",
      "File \u001b[0;32m/opt/anaconda3/lib/python3.12/site-packages/chipwhisperer/common/api/ProjectFormat.py:300\u001b[0m, in \u001b[0;36mProject.load\u001b[0;34m(self, f)\u001b[0m\n\u001b[1;32m    297\u001b[0m     \u001b[38;5;28mself\u001b[39m\u001b[38;5;241m.\u001b[39msetFilename(os\u001b[38;5;241m.\u001b[39mpath\u001b[38;5;241m.\u001b[39mabspath(os\u001b[38;5;241m.\u001b[39mpath\u001b[38;5;241m.\u001b[39mexpanduser(f)))\n\u001b[1;32m    299\u001b[0m \u001b[38;5;28;01mif\u001b[39;00m \u001b[38;5;129;01mnot\u001b[39;00m os\u001b[38;5;241m.\u001b[39mpath\u001b[38;5;241m.\u001b[39misfile(\u001b[38;5;28mself\u001b[39m\u001b[38;5;241m.\u001b[39mfilename):\n\u001b[0;32m--> 300\u001b[0m     \u001b[38;5;28;01mraise\u001b[39;00m \u001b[38;5;167;01mIOError\u001b[39;00m(\u001b[38;5;124m\"\u001b[39m\u001b[38;5;124mFile \u001b[39m\u001b[38;5;124m\"\u001b[39m \u001b[38;5;241m+\u001b[39m \u001b[38;5;28mself\u001b[39m\u001b[38;5;241m.\u001b[39mfilename \u001b[38;5;241m+\u001b[39m \u001b[38;5;124m\"\u001b[39m\u001b[38;5;124m does not exist or is not a file\u001b[39m\u001b[38;5;124m\"\u001b[39m)\n\u001b[1;32m    302\u001b[0m \u001b[38;5;28mself\u001b[39m\u001b[38;5;241m.\u001b[39mconfig \u001b[38;5;241m=\u001b[39m ConfigObjProj(infile\u001b[38;5;241m=\u001b[39m\u001b[38;5;28mself\u001b[39m\u001b[38;5;241m.\u001b[39mfilename, callback\u001b[38;5;241m=\u001b[39m\u001b[38;5;28mself\u001b[39m\u001b[38;5;241m.\u001b[39mconfigObjChanged)\n\u001b[1;32m    303\u001b[0m \u001b[38;5;28mself\u001b[39m\u001b[38;5;241m.\u001b[39m_traceManager\u001b[38;5;241m.\u001b[39mloadProject(\u001b[38;5;28mself\u001b[39m\u001b[38;5;241m.\u001b[39mfilename)\n",
      "\u001b[0;31mOSError\u001b[0m: File /Users/andrew/Desktop/protectedvsunprotected/only-traces/capture_traces/protected0.5.cwp does not exist or is not a file"
     ]
    }
   ],
   "source": [
    "proj = cw.open_project(project_name)"
   ]
  },
  {
   "cell_type": "code",
   "execution_count": 38,
   "id": "45c64310",
   "metadata": {},
   "outputs": [
    {
     "name": "stdout",
     "output_type": "stream",
     "text": [
      "10000\n"
     ]
    }
   ],
   "source": [
    "print(len(proj.traces))"
   ]
  },
  {
   "cell_type": "code",
   "execution_count": 40,
   "id": "4ae9abaf",
   "metadata": {},
   "outputs": [],
   "source": [
    "trace_waves_arr = []\n",
    "for trace in proj.traces:\n",
    "    trace_waves_arr.append(trace.wave)"
   ]
  },
  {
   "cell_type": "code",
   "execution_count": 39,
   "id": "c54bb7e8",
   "metadata": {},
   "outputs": [
    {
     "ename": "ModuleNotFoundError",
     "evalue": "No module named 'holoviews'",
     "output_type": "error",
     "traceback": [
      "\u001b[0;31m---------------------------------------------------------------------------\u001b[0m",
      "\u001b[0;31mModuleNotFoundError\u001b[0m                       Traceback (most recent call last)",
      "Cell \u001b[0;32mIn[39], line 1\u001b[0m\n\u001b[0;32m----> 1\u001b[0m \u001b[38;5;28;01mimport\u001b[39;00m \u001b[38;5;21;01mholoviews\u001b[39;00m \u001b[38;5;28;01mas\u001b[39;00m \u001b[38;5;21;01mhv\u001b[39;00m\n\u001b[1;32m      2\u001b[0m hv\u001b[38;5;241m.\u001b[39mextension(\u001b[38;5;124m'\u001b[39m\u001b[38;5;124mbokeh\u001b[39m\u001b[38;5;124m'\u001b[39m)\n\u001b[1;32m      3\u001b[0m list_of_curves \u001b[38;5;241m=\u001b[39m [\n\u001b[1;32m      4\u001b[0m     hv\u001b[38;5;241m.\u001b[39mCurve(trace_waves_arr[\u001b[38;5;241m0\u001b[39m], label\u001b[38;5;241m=\u001b[39m\u001b[38;5;124m'\u001b[39m\u001b[38;5;124mone trace\u001b[39m\u001b[38;5;124m'\u001b[39m), \n\u001b[1;32m      5\u001b[0m ]\n",
      "\u001b[0;31mModuleNotFoundError\u001b[0m: No module named 'holoviews'"
     ]
    }
   ],
   "source": [
    "import holoviews as hv\n",
    "hv.extension('bokeh')\n",
    "list_of_curves = [\n",
    "    hv.Curve(trace_waves_arr[0], label='one trace'), \n",
    "]\n",
    "hv.Overlay(list_of_curves).opts(\n",
    "    height=600, \n",
    "    width=800\n",
    ")"
   ]
  },
  {
   "cell_type": "code",
   "execution_count": 42,
   "id": "0ae75651",
   "metadata": {},
   "outputs": [],
   "source": [
    "def disconnect_DUT():\n",
    "    scope.dis()\n",
    "    target.dis()\n",
    "    return\n",
    "disconnect_DUT()"
   ]
  },
  {
   "cell_type": "code",
   "execution_count": null,
   "id": "ec3c73e1",
   "metadata": {},
   "outputs": [],
   "source": [
    "# ## save one trace to file\n",
    "# f = open(filename, \"w\")\n",
    "# i = 0\n",
    "# f.write(\"x y\\n\")\n",
    "# for point in trace_waves_arr[0]:\n",
    "#     f.write(str(i)+\" \"+str(point))\n",
    "#     f.write(\"\\n\")\n",
    "#     i = i+1\n",
    "# f.close()"
   ]
  },
  {
   "cell_type": "markdown",
   "id": "e1cd511b",
   "metadata": {},
   "source": [
    "### Save traces as txt files"
   ]
  },
  {
   "cell_type": "code",
   "execution_count": 44,
   "id": "4263aa62-942a-4723-8a9c-904b85e31d1e",
   "metadata": {},
   "outputs": [],
   "source": [
    "import os\n",
    "import numpy as np\n",
    "\n",
    "\n",
    "\n",
    "def save_files(folder, trace_array, input_file, input_array):\n",
    "    os.makedirs(folder, exist_ok=True)\n",
    "    \n",
    "    N = trace_array.shape[0]\n",
    "    for n in range(N):\n",
    "        trace_path = os.path.join(folder, f\"trace_{n}.txt\")\n",
    "        with open(trace_path, \"w\") as f:\n",
    "            for sample in trace_array[n]:\n",
    "                f.write(f\"{sample}\\n\")\n",
    "    \n",
    "    inputs_path = os.path.join(folder, input_file)\n",
    "    with open(inputs_path, \"w\") as f:\n",
    "        for row in input_array:\n",
    "            line = \" \".join(f\"{x:.8f}\" for x in row)\n",
    "            f.write(line + \"\\n\")\n",
    "\n",
    "trace_waves_arr = np.array(trace_waves_arr)   \n",
    "inputs_arr      = np.array(input_vals)       \n",
    "\n",
    "save_files(\n",
    "    folder      = project_name,\n",
    "    trace_array = trace_waves_arr,\n",
    "    input_file  = \"inputs.txt\",\n",
    "    input_array = inputs_arr\n",
    ")\n"
   ]
  },
  {
   "cell_type": "code",
   "execution_count": null,
   "id": "53620e70-109c-47cc-8587-01d7406217c4",
   "metadata": {},
   "outputs": [],
   "source": [
    "proj = cw.open_project(project_name)"
   ]
  },
  {
   "cell_type": "code",
   "execution_count": 46,
   "id": "b9fd5070",
   "metadata": {},
   "outputs": [
    {
     "name": "stdout",
     "output_type": "stream",
     "text": [
      "2000\n",
      "2000\n"
     ]
    }
   ],
   "source": [
    "trace_waves_arr = []\n",
    "inputs_arr = []\n",
    "for trace in proj.traces:\n",
    "    trace_waves_arr.append(trace.wave)\n",
    "    inputs_arr.append(trace.textin)\n",
    "\n",
    "trace_waves_arr = np.array(trace_waves_arr)\n",
    "print(len(trace_waves_arr))\n",
    "print(len(inputs_arr))"
   ]
  },
  {
   "cell_type": "code",
   "execution_count": 50,
   "id": "293cb50c",
   "metadata": {},
   "outputs": [],
   "source": [
    "import os\n",
    "\n",
    "def save_files(folder, array, input_file, input_array):\n",
    "    isExist = os.path.exists(folder)\n",
    "    if not isExist:\n",
    "        os.makedirs(folder)\n",
    "    no_of_traces = len(input_array)\n",
    "    for n in range(no_of_traces):\n",
    "        with open(folder + \"/trace_\"+str(n)+\".txt\",\"w+\") as file:\n",
    "            for record in array[n]:\n",
    "                file.write(str(record)+\"\\n\")\n",
    "        file.close()\n",
    "    \n",
    "    with open(folder + \"/\" + input_file,\"w+\") as file:\n",
    "        for i in range(no_of_traces):\n",
    "            file.write(str(input_array[i])+\"\\n\")\n",
    "        file.close()\n",
    "    return"
   ]
  },
  {
   "cell_type": "code",
   "execution_count": 41,
   "id": "8849255a-0eeb-43dd-ba94-d6f4c7be3a10",
   "metadata": {},
   "outputs": [
    {
     "name": "stdout",
     "output_type": "stream",
     "text": [
      "5000\n"
     ]
    }
   ],
   "source": [
    "print(len(trace_waves_arr[0]))"
   ]
  },
  {
   "cell_type": "code",
   "execution_count": 52,
   "id": "09339b5c",
   "metadata": {},
   "outputs": [],
   "source": [
    "save_files(project_name, trace_waves_arr, \"inputs.txt\", inputs_arr)"
   ]
  },
  {
   "cell_type": "markdown",
   "id": "a6bc960c-16eb-4649-a914-12746b3f4a66",
   "metadata": {},
   "source": [
    "### Zip files"
   ]
  },
  {
   "cell_type": "code",
   "execution_count": null,
   "id": "9e1c8cdb",
   "metadata": {},
   "outputs": [],
   "source": [
    "import shutil\n",
    "shutil.make_archive(project_name, 'zip', project_name)\n",
    "# shutil.make_archive(output_filename_dont_add_.zip, 'zip', directory_to_download)"
   ]
  },
  {
   "cell_type": "markdown",
   "id": "fc79d6f3",
   "metadata": {},
   "source": [
    "### Delete files"
   ]
  },
  {
   "cell_type": "code",
   "execution_count": 5,
   "id": "d95acb08-a978-4900-9e3e-d45756e2cb97",
   "metadata": {},
   "outputs": [],
   "source": [
    "import shutil\n",
    "\n",
    "shutil.rmtree('5')"
   ]
  },
  {
   "cell_type": "markdown",
   "id": "c7ec019b",
   "metadata": {},
   "source": [
    "### Unzip file"
   ]
  },
  {
   "cell_type": "code",
   "execution_count": null,
   "id": "295e8d90",
   "metadata": {},
   "outputs": [],
   "source": [
    "# import zipfile as zf\n",
    "# files = zf.ZipFile(\"version_02.zip\", 'r')\n",
    "# files.extractall('network')\n",
    "# files.close()"
   ]
  },
  {
   "cell_type": "code",
   "execution_count": null,
   "id": "4c2a8375",
   "metadata": {},
   "outputs": [],
   "source": []
  }
 ],
 "metadata": {
  "kernelspec": {
   "display_name": "Python 3 (ipykernel)",
   "language": "python",
   "name": "python3"
  },
  "language_info": {
   "codemirror_mode": {
    "name": "ipython",
    "version": 3
   },
   "file_extension": ".py",
   "mimetype": "text/x-python",
   "name": "python",
   "nbconvert_exporter": "python",
   "pygments_lexer": "ipython3",
   "version": "3.12.4"
  }
 },
 "nbformat": 4,
 "nbformat_minor": 5
}
